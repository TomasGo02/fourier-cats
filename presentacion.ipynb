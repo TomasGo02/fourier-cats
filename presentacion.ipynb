{
 "cells": [
  {
   "cell_type": "code",
   "execution_count": 2,
   "id": "0eb30fd8",
   "metadata": {},
   "outputs": [],
   "source": [
    "import numpy as np\n",
    "import matplotlib.pyplot as plt"
   ]
  },
  {
   "cell_type": "markdown",
   "id": "1c9f681d",
   "metadata": {},
   "source": [
    "\n",
    "# Transformada de Fourier\n",
    "\n",
    "Materia: Aprendizaje Automático\n",
    "\n",
    "Integrantes: Gonzalo Jara y Tomás Gómez \n",
    "\n",
    "Docente: Esteban Roitberg"
   ]
  },
  {
   "cell_type": "markdown",
   "id": "e39ee869",
   "metadata": {
    "slideshow": {
     "slide_type": "slide"
    }
   },
   "source": [
    "# Contexto del problema\n",
    "\n",
    "Ella se llama Ciri.\n",
    "\n",
    "<div class=\"flex-center\">\n",
    "    <img src=\"ciripiso.jpg\"  height=408 width=307/>\n",
    "</div>\n",
    "\n",
    "<style>\n",
    "    .flex-center {\n",
    "        display: flex;\n",
    "        flex-direction: column;\n",
    "        justify-content: center;\n",
    "        align-items: center;\n",
    "    }\n",
    "</style>"
   ]
  },
  {
   "cell_type": "markdown",
   "id": "ddd7e7ed",
   "metadata": {
    "slideshow": {
     "slide_type": "subslide"
    }
   },
   "source": [
    "Queremos usar la imágen en un modelo.\n",
    "\n",
    "La imagen es de 3072 x 4080 y pesa 636KB.\n",
    "\n",
    "<b>¿Cómo podemos simplificarla sin perder información?</b>"
   ]
  },
  {
   "cell_type": "markdown",
   "id": "377483cd",
   "metadata": {
    "slideshow": {
     "slide_type": "subslide"
    }
   },
   "source": [
    "**Podemos comprimirla usando la Transformada de Fourier**"
   ]
  },
  {
   "cell_type": "markdown",
   "id": "b280bd96",
   "metadata": {},
   "source": [
    "# Un caso más simple, ¿Cómo simplificar una señal?\n",
    "\n",
    "*Mostrar función con ruido y explicar que queremos simplificarla*"
   ]
  },
  {
   "cell_type": "markdown",
   "id": "9ebb6023",
   "metadata": {},
   "source": [
    "## La respuesta: Series de Fourier\n",
    "\n",
    "*Mostrar descomposición y cómo la suma de las componentes nos termina dando una version suavizada de la original*\n",
    "\n",
    "[animacion de descomposicion y recomposicion]\n",
    "\n"
   ]
  },
  {
   "cell_type": "markdown",
   "id": "c5a4fd8b",
   "metadata": {},
   "source": [
    "*Mostrar formula de Series de fourier y explicarla (usar version de suma de senos y cosenos)*"
   ]
  },
  {
   "cell_type": "markdown",
   "id": "6f917908",
   "metadata": {},
   "source": [
    "*Graficar los coeficientes y mostrar por que nos quedamos con los más importantes*\n",
    "\n",
    "[grafico de amplitud y frecuencia]"
   ]
  },
  {
   "cell_type": "markdown",
   "id": "a4d84455",
   "metadata": {},
   "source": [
    "*Las series son una forma especifica para descomponer señales periodicas, pero para otras cosas necesitamos algo mas general*"
   ]
  },
  {
   "cell_type": "markdown",
   "id": "055f03f6",
   "metadata": {
    "slideshow": {
     "slide_type": "slide"
    }
   },
   "source": [
    "# ¿Qué es la Transformada de Fourier?\n",
    "\n",
    "*Mostrar una función inicial y el resultado de aplicarle la transformada, y explicar la intuición de lo que se ve en los picos de la transformada*"
   ]
  },
  {
   "cell_type": "markdown",
   "id": "8c2f5c95",
   "metadata": {
    "slideshow": {
     "slide_type": "slide"
    }
   },
   "source": [
    "## Formula de Euler\n",
    "\n",
    "*Mostrar fórmula y crear una intuición de lo que representa (vector)*\n",
    "\n",
    "[Animacion vector rotando a partir del seno y coseno]"
   ]
  },
  {
   "cell_type": "markdown",
   "id": "acc48418",
   "metadata": {},
   "source": [
    "## ¿Cómo funciona la Transformada de Fourier?\n",
    "\n",
    "*Mostrar la fórmula y explicarla a grandes rasgos*"
   ]
  },
  {
   "cell_type": "markdown",
   "id": "c0282179",
   "metadata": {},
   "source": [
    "$$\n",
    "\\hat f(\\epsilon) = \\int_{-\\infty}^{\\infty} f(x) e^{-i 2 \\pi \\epsilon x} dx\n",
    "$$\n",
    "\n",
    "Donde: \n",
    "- $f(x)$ es la funcion original.\n",
    "- $\\epsilon$ es una variable que representa a la frecuencia de la función original.\n",
    "- $e^{-i 2 \\pi}$ es un número complejo que depende de $x$ y de $\\epsilon$."
   ]
  },
  {
   "cell_type": "markdown",
   "id": "5e007d55",
   "metadata": {},
   "source": [
    "*Introducimos cada parte de la fórmula por separado*"
   ]
  },
  {
   "cell_type": "markdown",
   "id": "d495cf5e",
   "metadata": {},
   "source": [
    "*Introducir a la función inicial y mostrar el resultado del producto con el componente complejo (animacion)*\n",
    "\n",
    "[Animacion que ya sabes]"
   ]
  },
  {
   "cell_type": "markdown",
   "id": "e2695f79",
   "metadata": {},
   "source": [
    "*Introducir la integral y mostrar cómo el resultado se mueve a medida que varía la frecuencia, y finalmente cómo eso resulta en la función de la transformada*\n",
    "\n",
    "[Animacion tambien]"
   ]
  },
  {
   "cell_type": "markdown",
   "id": "4de0a167",
   "metadata": {
    "slideshow": {
     "slide_type": "slide"
    }
   },
   "source": [
    "# Aplicado a Ciri\n",
    "\n",
    "*Mostrar aplicacion de Ciri*"
   ]
  },
  {
   "cell_type": "markdown",
   "id": "3faa4462",
   "metadata": {},
   "source": [
    "## Aplicaciones a ciencia de datos\n",
    "\n",
    "*Mencionar algunas aplicaciones directas*"
   ]
  },
  {
   "cell_type": "markdown",
   "id": "4848097a",
   "metadata": {},
   "source": [
    "## Conclusion\n",
    "\n",
    "*Dar un resumen de lo que vimos*"
   ]
  }
 ],
 "metadata": {
  "kernelspec": {
   "display_name": "EI2",
   "language": "python",
   "name": "python3"
  },
  "language_info": {
   "codemirror_mode": {
    "name": "ipython",
    "version": 3
   },
   "file_extension": ".py",
   "mimetype": "text/x-python",
   "name": "python",
   "nbconvert_exporter": "python",
   "pygments_lexer": "ipython3",
   "version": "3.11.9"
  }
 },
 "nbformat": 4,
 "nbformat_minor": 5
}
