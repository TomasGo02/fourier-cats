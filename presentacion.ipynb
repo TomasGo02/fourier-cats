{
 "cells": [
  {
   "cell_type": "markdown",
   "id": "e39ee869",
   "metadata": {},
   "source": [
    "# Fourier\n"
   ]
  }
 ],
 "metadata": {
  "language_info": {
   "name": "python"
  }
 },
 "nbformat": 4,
 "nbformat_minor": 5
}
