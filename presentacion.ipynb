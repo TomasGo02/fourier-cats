{
 "cells": [
  {
   "cell_type": "markdown",
   "id": "e39ee869",
   "metadata": {},
   "source": [
    "# Fourier\n",
    "\n",
    "presentar problema"
   ]
  },
  {
   "cell_type": "markdown",
   "id": "055f03f6",
   "metadata": {},
   "source": [
    "# Forma de solucionar\n",
    "\n",
    "explicar como funciona Fourier a grandes rasgos"
   ]
  },
  {
   "cell_type": "markdown",
   "id": "8c2f5c95",
   "metadata": {},
   "source": [
    "## Formula de Euler\n",
    "\n",
    "mencionar por que la vamos a usar"
   ]
  },
  {
   "cell_type": "markdown",
   "id": "f4afda39",
   "metadata": {},
   "source": [
    "# Animaciones\n",
    "\n",
    "ejemplo de como descomponer y ..."
   ]
  },
  {
   "cell_type": "markdown",
   "id": "4de0a167",
   "metadata": {},
   "source": [
    "# Aplicado a Ciri\n",
    "\n",
    "ya sabemos"
   ]
  }
 ],
 "metadata": {
  "language_info": {
   "name": "python"
  }
 },
 "nbformat": 4,
 "nbformat_minor": 5
}
